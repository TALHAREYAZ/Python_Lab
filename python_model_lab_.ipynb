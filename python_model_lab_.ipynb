{
  "nbformat": 4,
  "nbformat_minor": 0,
  "metadata": {
    "colab": {
      "provenance": [],
      "authorship_tag": "ABX9TyN07S+ZQFOyTSfkkW2Pfr5B",
      "include_colab_link": true
    },
    "kernelspec": {
      "name": "python3",
      "display_name": "Python 3"
    },
    "language_info": {
      "name": "python"
    }
  },
  "cells": [
    {
      "cell_type": "markdown",
      "metadata": {
        "id": "view-in-github",
        "colab_type": "text"
      },
      "source": [
        "<a href=\"https://colab.research.google.com/github/TALHAREYAZ/Python_Lab/blob/main/python_model_lab_.ipynb\" target=\"_parent\"><img src=\"https://colab.research.google.com/assets/colab-badge.svg\" alt=\"Open In Colab\"/></a>"
      ]
    },
    {
      "cell_type": "code",
      "execution_count": null,
      "metadata": {
        "colab": {
          "base_uri": "https://localhost:8080/"
        },
        "id": "u4PuNWshwu26",
        "outputId": "145454b7-8840-4d00-dbf3-b803a32592e4"
      },
      "outputs": [
        {
          "output_type": "stream",
          "name": "stdout",
          "text": [
            "Time taken by Lists: 1.1587138175964355 seconds\n",
            "Time taken by NumPy Array: 0.04830431938171387 seconds\n"
          ]
        }
      ],
      "source": [
        "import numpy\n",
        "import time\n",
        "\n",
        "size = 10000000\n",
        "\n",
        "list1 = range(size)\n",
        "list2 = range(size)\n",
        "\n",
        "array1 = numpy.arange(size)\n",
        "array2 = numpy.arange(size)\n",
        "\n",
        "initialTime = time.time()\n",
        "\n",
        "resultantList = [(a * b) for a, b in zip(list1, list2)]\n",
        "\n",
        "print(\"Time taken by Lists:\",\t(time.time() - initialTime),\"seconds\")\n",
        "\n",
        "initialTime = time.time()\n",
        "\n",
        "resultantArray = array1 * array2\n",
        "\n",
        "print(\"Time taken by NumPy Array:\",(time.time() - initialTime),\"seconds\")\n",
        "\n"
      ]
    },
    {
      "cell_type": "code",
      "source": [],
      "metadata": {
        "id": "DsiRiRRmzC6B"
      },
      "execution_count": null,
      "outputs": []
    }
  ]
}