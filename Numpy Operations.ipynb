{
  "nbformat": 4,
  "nbformat_minor": 0,
  "metadata": {
    "colab": {
      "provenance": [],
      "authorship_tag": "ABX9TyPrJMDVpiHMvRr7rbMqGlSC",
      "include_colab_link": true
    },
    "kernelspec": {
      "name": "python3",
      "display_name": "Python 3"
    },
    "language_info": {
      "name": "python"
    }
  },
  "cells": [
    {
      "cell_type": "markdown",
      "metadata": {
        "id": "view-in-github",
        "colab_type": "text"
      },
      "source": [
        "<a href=\"https://colab.research.google.com/github/TALHAREYAZ/Python_Lab/blob/main/Numpy%20Operations.ipynb\" target=\"_parent\"><img src=\"https://colab.research.google.com/assets/colab-badge.svg\" alt=\"Open In Colab\"/></a>"
      ]
    },
    {
      "cell_type": "markdown",
      "source": [
        "**NUMPY OPERATION's**"
      ],
      "metadata": {
        "id": "h4Yrwc2mno6j"
      }
    },
    {
      "cell_type": "markdown",
      "source": [
        "Creation of array"
      ],
      "metadata": {
        "id": "dhbWn5YZh048"
      }
    },
    {
      "cell_type": "code",
      "source": [
        "import numpy as np\n",
        "#creating array without range\n",
        "#1-d array\n",
        "array=np.arange(20)\n",
        "print(\"1-d:\\n\",array)\n",
        "#2-d array\n",
        "array=np.arange(20).reshape(4,5)\n",
        "print(\"2-d:\\n\",array)\n",
        "#creating array with range\n",
        "print(\"array with range:\\n\",np.arange(0, 15, 2))"
      ],
      "metadata": {
        "colab": {
          "base_uri": "https://localhost:8080/"
        },
        "id": "sJMLH8jvh0Xz",
        "outputId": "b4b5ed45-8f15-4f73-ebd8-60c9c8f46c86"
      },
      "execution_count": null,
      "outputs": [
        {
          "output_type": "stream",
          "name": "stdout",
          "text": [
            "1-d:\n",
            " [ 0  1  2  3  4  5  6  7  8  9 10 11 12 13 14 15 16 17 18 19]\n",
            "2-d:\n",
            " [[ 0  1  2  3  4]\n",
            " [ 5  6  7  8  9]\n",
            " [10 11 12 13 14]\n",
            " [15 16 17 18 19]]\n",
            "array with range:\n",
            " [ 0  2  4  6  8 10 12 14]\n"
          ]
        }
      ]
    },
    {
      "cell_type": "code",
      "source": [
        "import numpy as np\n",
        "a=np.array([[1,2,3],[2,3,4],[3,4,5]])\n",
        "#shape\n",
        "b=a.shape\n",
        "print(\"shape:\",a.shape)\n",
        "#dimension\n",
        "c=a.ndim\n",
        "print(\"dimensions:\",a.ndim)\n"
      ],
      "metadata": {
        "colab": {
          "base_uri": "https://localhost:8080/"
        },
        "id": "_rugeIY6nwv-",
        "outputId": "a764f9f7-602b-4cf5-d289-30291acbb72b"
      },
      "execution_count": null,
      "outputs": [
        {
          "output_type": "stream",
          "name": "stdout",
          "text": [
            "shape: (3, 3)\n",
            "dimensions: 2\n"
          ]
        }
      ]
    },
    {
      "cell_type": "markdown",
      "source": [
        "Create a matrix full of zeros and ones"
      ],
      "metadata": {
        "id": "16UyYxw2n5W6"
      }
    },
    {
      "cell_type": "code",
      "source": [
        "#matrix full of zeros\n",
        "z=np.zeros((2,2))\n",
        "print(\"zeros:\\n\",z)\n",
        "#matrix full of ones\n",
        "o=np.ones((2,2))\n",
        "print(\"ones:\\n\",o)\n",
        "#creating empty array\n",
        "a=np.empty((2,3))\n",
        "print(\"empty:\\n\",a)\n",
        "#creating full array\n",
        "b=np.full((3,3), 3)\n",
        "print(\"Full:\\n\",b)\n"
      ],
      "metadata": {
        "colab": {
          "base_uri": "https://localhost:8080/"
        },
        "id": "eswgER0snzie",
        "outputId": "97148355-18c5-4366-e3fd-b17f42cfad2d"
      },
      "execution_count": null,
      "outputs": [
        {
          "output_type": "stream",
          "name": "stdout",
          "text": [
            "zeros:\n",
            " [[0. 0.]\n",
            " [0. 0.]]\n",
            "ones:\n",
            " [[1. 1.]\n",
            " [1. 1.]]\n",
            "empty:\n",
            " [[2.4271611e-316 0.0000000e+000 0.0000000e+000]\n",
            " [0.0000000e+000 0.0000000e+000 0.0000000e+000]]\n",
            "Full:\n",
            " [[3 3 3]\n",
            " [3 3 3]\n",
            " [3 3 3]]\n"
          ]
        }
      ]
    },
    {
      "cell_type": "markdown",
      "source": [
        "Reshape and flatten data in the array"
      ],
      "metadata": {
        "id": "gSwqlP_-Plpk"
      }
    },
    {
      "cell_type": "code",
      "source": [
        "#matrix reshape\n",
        "a=np.array([[1,2,3,4],[2,3,4,5],[3,4,5,6],[4,5,6,7]])\n",
        "b=a.reshape(4,2,2)\n",
        "print(\"reshape:\\n\",b)\n",
        "#matrix flatten\n",
        "c=a.flatten()\n",
        "print(\"flatten:\\n\",c)"
      ],
      "metadata": {
        "id": "UBc24LyJnznF",
        "colab": {
          "base_uri": "https://localhost:8080/"
        },
        "outputId": "897ece1d-9e97-41c7-c608-ab670dc45037"
      },
      "execution_count": null,
      "outputs": [
        {
          "output_type": "stream",
          "name": "stdout",
          "text": [
            "reshape:\n",
            " [[[1 2]\n",
            "  [3 4]]\n",
            "\n",
            " [[2 3]\n",
            "  [4 5]]\n",
            "\n",
            " [[3 4]\n",
            "  [5 6]]\n",
            "\n",
            " [[4 5]\n",
            "  [6 7]]]\n",
            "flatten:\n",
            " [1 2 3 4 2 3 4 5 3 4 5 6 4 5 6 7]\n"
          ]
        }
      ]
    },
    {
      "cell_type": "markdown",
      "source": [
        " Append data vertically and horizontally"
      ],
      "metadata": {
        "id": "hjuWMNKqPt-L"
      }
    },
    {
      "cell_type": "code",
      "source": [
        "#Appending data vertically\n",
        "x=np.array([[10,20],[80,90]])\n",
        "y=np.array([[30,40],[60,70]])\n",
        "v=np.vstack((x,y))\n",
        "print(\"vertically:\\n\",v)\n",
        "#Appending data horizontally\n",
        "h=np.hstack((x,y))\n",
        "print(\"horizontally:\\n\",h)"
      ],
      "metadata": {
        "id": "r2b-57Lsnzr1",
        "colab": {
          "base_uri": "https://localhost:8080/"
        },
        "outputId": "21318ee2-737f-4134-9b1e-2c24de5a36b8"
      },
      "execution_count": null,
      "outputs": [
        {
          "output_type": "stream",
          "name": "stdout",
          "text": [
            "vertically:\n",
            " [[10 20]\n",
            " [80 90]\n",
            " [30 40]\n",
            " [60 70]]\n",
            "horizontally:\n",
            " [[10 20 30 40]\n",
            " [80 90 60 70]]\n"
          ]
        }
      ]
    },
    {
      "cell_type": "markdown",
      "source": [
        "Apply indexing and slicing on array"
      ],
      "metadata": {
        "id": "wGxeDugTQW-k"
      }
    },
    {
      "cell_type": "code",
      "source": [
        "#indexing\n",
        "a=np.array([[1,2,3,4],[2,3,4,5],[3,4,5,6],[4,5,6,7]])\n",
        "temp = a[[0, 1, 2, 3], [1, 1, 1, 1]]\n",
        "#slicing\n",
        "i=a[:4,::2]\n",
        "print(\"slicing:\\n\",i)"
      ],
      "metadata": {
        "id": "Gca6p1LonzwO",
        "colab": {
          "base_uri": "https://localhost:8080/"
        },
        "outputId": "80f2d526-a3f7-47d9-e3c0-5fd125d0afb4"
      },
      "execution_count": null,
      "outputs": [
        {
          "output_type": "stream",
          "name": "stdout",
          "text": [
            "slicing:\n",
            " [[1 3]\n",
            " [2 4]\n",
            " [3 5]\n",
            " [4 6]]\n"
          ]
        }
      ]
    },
    {
      "cell_type": "markdown",
      "source": [
        "Use statistical functions on array - **Min, Max, Mean, Median and Standard Deviation**\n"
      ],
      "metadata": {
        "id": "33PEhB-5TFdM"
      }
    },
    {
      "cell_type": "code",
      "source": [
        "#min for finding minimum of an array\n",
        "a=np.array([[1,3,-1,4],[3,-2,1,4]])\n",
        "b=a.min()\n",
        "print('min:\\n ',b)\n",
        "#max for finding maximum of an array\n",
        "c=a.max()\n",
        "print('max:\\n',c)\n",
        "#mean\n",
        "a=np.array([1,2,3,4,5])\n",
        "d=a.mean()\n",
        "print(\"mean:\\n\",d)\n",
        "#median\n",
        "e=np.median(a)\n",
        "print(\"median:\\n\",e)\n",
        "#standard deviation\n",
        "f=a.std()\n",
        "print(\"SD:\\n\",f)"
      ],
      "metadata": {
        "id": "I2mFDFdenz0F",
        "colab": {
          "base_uri": "https://localhost:8080/"
        },
        "outputId": "aa45066a-f55e-441d-b7c2-4611b72deb81"
      },
      "execution_count": null,
      "outputs": [
        {
          "output_type": "stream",
          "name": "stdout",
          "text": [
            "min:\n",
            "  -2\n",
            "max:\n",
            " 4\n",
            "mean:\n",
            " 3.0\n",
            "median:\n",
            " 3.0\n",
            "SD:\n",
            " 1.4142135623730951\n"
          ]
        }
      ]
    },
    {
      "cell_type": "markdown",
      "source": [
        "Arithmetic Operations in Numpy "
      ],
      "metadata": {
        "id": "1F87rPwkUQl0"
      }
    },
    {
      "cell_type": "code",
      "source": [
        "arr1 = np.arange(4, dtype = np.float_).reshape(2, 2)\n",
        " \n",
        "print('First array:')\n",
        "print(arr1)\n",
        " \n",
        "print('\\nSecond array:')\n",
        "arr2 = np.array([12, 12])\n",
        "print(arr2)\n",
        " \n",
        "print('\\nAdding the two arrays:')\n",
        "print(np.add(arr1, arr2))"
      ],
      "metadata": {
        "id": "bDmNQspOnz3s",
        "colab": {
          "base_uri": "https://localhost:8080/"
        },
        "outputId": "8021dc86-3132-432b-9160-7b354b0dda0d"
      },
      "execution_count": null,
      "outputs": [
        {
          "output_type": "stream",
          "name": "stdout",
          "text": [
            "First array:\n",
            "[[0. 1.]\n",
            " [2. 3.]]\n",
            "\n",
            "Second array:\n",
            "[12 12]\n",
            "\n",
            "Adding the two arrays:\n",
            "[[12. 13.]\n",
            " [14. 15.]]\n"
          ]
        }
      ]
    },
    {
      "cell_type": "code",
      "source": [
        "print('\\nSubtracting the two arrays:')\n",
        "print(np.subtract(arr1, arr2))\n",
        " "
      ],
      "metadata": {
        "colab": {
          "base_uri": "https://localhost:8080/"
        },
        "id": "lQjSGmifUcwY",
        "outputId": "643c6ef0-810b-47f9-9d01-ef0b2373a56d"
      },
      "execution_count": null,
      "outputs": [
        {
          "output_type": "stream",
          "name": "stdout",
          "text": [
            "\n",
            "Subtracting the two arrays:\n",
            "[[-12. -11.]\n",
            " [-10.  -9.]]\n"
          ]
        }
      ]
    },
    {
      "cell_type": "code",
      "source": [
        "print('\\nMultiplying the two arrays:')\n",
        "print(np.multiply(arr1, arr2))"
      ],
      "metadata": {
        "colab": {
          "base_uri": "https://localhost:8080/"
        },
        "id": "fc--ovBjUfHW",
        "outputId": "e168a346-4fc3-4d6d-ffcc-e521dea0ea8b"
      },
      "execution_count": null,
      "outputs": [
        {
          "output_type": "stream",
          "name": "stdout",
          "text": [
            "\n",
            "Multiplying the two arrays:\n",
            "[[ 0. 12.]\n",
            " [24. 36.]]\n"
          ]
        }
      ]
    },
    {
      "cell_type": "code",
      "source": [
        "print('\\nDividing the two arrays:')\n",
        "print(np.divide(arr1, arr2))"
      ],
      "metadata": {
        "colab": {
          "base_uri": "https://localhost:8080/"
        },
        "id": "AAUCU6ZVUfTb",
        "outputId": "9f183924-d03d-42bd-c685-a6d9d984f10b"
      },
      "execution_count": null,
      "outputs": [
        {
          "output_type": "stream",
          "name": "stdout",
          "text": [
            "\n",
            "Dividing the two arrays:\n",
            "[[0.         0.08333333]\n",
            " [0.16666667 0.25      ]]\n"
          ]
        }
      ]
    },
    {
      "cell_type": "markdown",
      "source": [
        "**numpy.reciprocal()** This function returns the reciprocal of argument, element-wise."
      ],
      "metadata": {
        "id": "2PMQaLmpUzlS"
      }
    },
    {
      "cell_type": "code",
      "source": [
        "arr = np.array([25, 1.33, 1, 1, 100])\n",
        " \n",
        "print('Our array is:')\n",
        "print(arr)\n",
        " \n",
        "print('\\nAfter applying reciprocal function:')\n",
        "print(np.reciprocal(arr))\n",
        " \n",
        "arr2 = np.array([25], dtype = int)\n",
        "print('\\nThe second array is:')\n",
        "print(arr2)\n",
        " \n",
        "print('\\nAfter applying reciprocal function:')\n",
        "print(np.reciprocal(arr2))"
      ],
      "metadata": {
        "colab": {
          "base_uri": "https://localhost:8080/"
        },
        "id": "sHuMoQ-4UxFj",
        "outputId": "9eca70a6-4fdb-491b-ce8d-8573c6bfa52c"
      },
      "execution_count": null,
      "outputs": [
        {
          "output_type": "stream",
          "name": "stdout",
          "text": [
            "Our array is:\n",
            "[ 25.     1.33   1.     1.   100.  ]\n",
            "\n",
            "After applying reciprocal function:\n",
            "[0.04      0.7518797 1.        1.        0.01     ]\n",
            "\n",
            "The second array is:\n",
            "[25]\n",
            "\n",
            "After applying reciprocal function:\n",
            "[0]\n"
          ]
        }
      ]
    },
    {
      "cell_type": "markdown",
      "source": [
        "**numpy.power()**.\n",
        "This function treats elements in the first input array as base and returns it raised to the power of the corresponding element in the second input array."
      ],
      "metadata": {
        "id": "BjfqlKzzWBL7"
      }
    },
    {
      "cell_type": "code",
      "source": [
        "a = np.array([10,100,1000]) \n",
        "\n",
        "print ('Our array is:\\n' ,a)\n",
        "\n",
        "\n",
        "print ('\\nApplying power function:' )\n",
        "\n",
        "print (np.power(a,2)) \n",
        "\n",
        "print ('\\nSecond array:') \n",
        "\n",
        "b = (np.array([1,2,3]) )\n",
        "print(b) \n",
        "\n",
        "\n",
        "print ('\\nApplying power function again:' )\n",
        "print (np.power(a,b))"
      ],
      "metadata": {
        "colab": {
          "base_uri": "https://localhost:8080/"
        },
        "id": "N88fxSefV-Pz",
        "outputId": "4994a825-6ccd-4553-9e0c-399a04559428"
      },
      "execution_count": null,
      "outputs": [
        {
          "output_type": "stream",
          "name": "stdout",
          "text": [
            "Our array is:\n",
            " [  10  100 1000]\n",
            "\n",
            "Applying power function:\n",
            "[    100   10000 1000000]\n",
            "\n",
            "Second array:\n",
            "[1 2 3]\n",
            "\n",
            "Applying power function again:\n",
            "[        10      10000 1000000000]\n"
          ]
        }
      ]
    },
    {
      "cell_type": "markdown",
      "source": [
        "**numpy.mod()**  .\n",
        "This function returns the remainder of division of the corresponding elements in the input array. The function numpy.remainder() also produces the same result."
      ],
      "metadata": {
        "id": "xyvaQKFCXEz8"
      }
    },
    {
      "cell_type": "code",
      "source": [
        "a = np.array([10,20,30]) \n",
        "b = np.array([3,5,7]) \n",
        "print ('Applying mod() function:') \n",
        "print (np.mod(a,b)) \n",
        "\n",
        "print ('\\nApplying remainder() function:' )\n",
        "print (np.remainder(a,b) )"
      ],
      "metadata": {
        "colab": {
          "base_uri": "https://localhost:8080/"
        },
        "id": "jjZZHO7DV-Yz",
        "outputId": "f3580a2b-9ef3-4deb-f787-d6aab797a341"
      },
      "execution_count": null,
      "outputs": [
        {
          "output_type": "stream",
          "name": "stdout",
          "text": [
            "Applying mod() function:\n",
            "[1 0 2]\n",
            "\n",
            "Applying remainder() function:\n",
            "[1 0 2]\n"
          ]
        }
      ]
    },
    {
      "cell_type": "markdown",
      "source": [
        "**numpy.real()** − returns the real part of the complex data type argument\n",
        "\n"
      ],
      "metadata": {
        "id": "3lDBK3QjYAt0"
      }
    },
    {
      "cell_type": "code",
      "source": [
        "a = np.array([-5.6j, 0.2j, 11. , 1+1j]) \n",
        "print ('Applying real() function:\\n' )\n",
        "print (np.real(a)) "
      ],
      "metadata": {
        "colab": {
          "base_uri": "https://localhost:8080/"
        },
        "id": "y7tVsvLXV_TU",
        "outputId": "1fbda253-ff0c-4bf3-fb7a-3da6c0b5dbad"
      },
      "execution_count": null,
      "outputs": [
        {
          "output_type": "stream",
          "name": "stdout",
          "text": [
            "Applying real() function:\n",
            "\n",
            "[-0.  0. 11.  1.]\n"
          ]
        }
      ]
    },
    {
      "cell_type": "markdown",
      "source": [
        "**numpy.imag()** − returns the imaginary part of the complex data type argument."
      ],
      "metadata": {
        "id": "nybbBziOYBOD"
      }
    },
    {
      "cell_type": "code",
      "source": [
        "a = np.array([-5.6j, 0.2j, 11. , 1+1j]) \n",
        "print ('Applying imag() function:' )\n",
        "print (np.imag(a)) \n"
      ],
      "metadata": {
        "colab": {
          "base_uri": "https://localhost:8080/"
        },
        "id": "J9jNobU3V_rK",
        "outputId": "5105e699-e545-4cb4-d735-762352cca4e2"
      },
      "execution_count": null,
      "outputs": [
        {
          "output_type": "stream",
          "name": "stdout",
          "text": [
            "Applying imag() function:\n",
            "[-5.6  0.2  0.   1. ]\n"
          ]
        }
      ]
    },
    {
      "cell_type": "markdown",
      "source": [
        "**numpy.conj()**− returns the complex conjugate, which is obtained by changing the sign of the imaginary part."
      ],
      "metadata": {
        "id": "C0t8hDvhafLl"
      }
    },
    {
      "cell_type": "code",
      "source": [
        "a = np.array([-5.6j, 0.2j, 11. , 1+1j]) \n",
        "print ('Applying conj() function:' )\n",
        "print (np.conj(a) )\n"
      ],
      "metadata": {
        "colab": {
          "base_uri": "https://localhost:8080/"
        },
        "id": "GILQyPQoV_3i",
        "outputId": "0e9a96a7-ce3a-4c89-9b6d-288e9453293c"
      },
      "execution_count": null,
      "outputs": [
        {
          "output_type": "stream",
          "name": "stdout",
          "text": [
            "Applying conj() function:\n",
            "[-0.+5.6j  0.-0.2j 11.-0.j   1.-1.j ]\n"
          ]
        }
      ]
    },
    {
      "cell_type": "markdown",
      "source": [
        "**numpy.angle()** − returns the angle of the complex argument. The function has degree parameter. If true, the angle in the degree is returned, otherwise the angle is in radians."
      ],
      "metadata": {
        "id": "vLgoETCjaf3b"
      }
    },
    {
      "cell_type": "code",
      "source": [
        "a = np.array([-5.6j, 0.2j, 11. , 1+1j]) \n",
        "print ('Applying angle() function:') \n",
        "print (np.angle(a) )\n"
      ],
      "metadata": {
        "colab": {
          "base_uri": "https://localhost:8080/"
        },
        "id": "FDoYgqeAaZNQ",
        "outputId": "3ad943c0-3418-43e9-ed30-b3a6fb630b5d"
      },
      "execution_count": null,
      "outputs": [
        {
          "output_type": "stream",
          "name": "stdout",
          "text": [
            "Applying angle() function:\n",
            "[-1.57079633  1.57079633  0.          0.78539816]\n"
          ]
        }
      ]
    },
    {
      "cell_type": "code",
      "source": [
        "print ('Applying angle() function again (result in degrees)') \n",
        "print (np.angle(a, deg = True))"
      ],
      "metadata": {
        "colab": {
          "base_uri": "https://localhost:8080/"
        },
        "id": "mRdd5msEaZV7",
        "outputId": "4ec3d2a5-c444-4560-ea35-61b81e56a08b"
      },
      "execution_count": null,
      "outputs": [
        {
          "output_type": "stream",
          "name": "stdout",
          "text": [
            "Applying angle() function again (result in degrees)\n",
            "[-90.  90.   0.  45.]\n"
          ]
        }
      ]
    },
    {
      "cell_type": "markdown",
      "source": [
        "LINEAR ALGEBRA ON MATRICES"
      ],
      "metadata": {
        "id": "adq6ZoPDahqa"
      }
    },
    {
      "cell_type": "markdown",
      "source": [
        "Dot and matrix product of two arrays"
      ],
      "metadata": {
        "id": "CQCca0tnfFn7"
      }
    },
    {
      "cell_type": "code",
      "source": [
        "a=np.array([1,2,3])\n",
        "b=np.array([2,3,4])\n",
        "#matrix elements multiplication\n",
        "a=np.array([[1,2],[3,4]])\n",
        "b=np.array([[1,2],[3,4]])\n",
        "print(\"dot product of one dimension is :\\n\",np.dot(a,b))\n",
        "#matrix multiplication\n",
        "a=np.array([[1,2],[3,4]])\n",
        "b=np.array([[1,2],[3,4]])\n",
        "c=np.multiply(a,b)\n",
        "print(\"element multiplication of matrix:\\n\",c)\n"
      ],
      "metadata": {
        "colab": {
          "base_uri": "https://localhost:8080/"
        },
        "id": "qbCLIpSjaZeV",
        "outputId": "5d6a6a09-41a9-4c6b-eece-dabbb431d05c"
      },
      "execution_count": null,
      "outputs": [
        {
          "output_type": "stream",
          "name": "stdout",
          "text": [
            "dot product of one dimension is :\n",
            " [[ 7 10]\n",
            " [15 22]]\n",
            "element multiplication of matrix:\n",
            " [[ 1  4]\n",
            " [ 9 16]]\n"
          ]
        }
      ]
    },
    {
      "cell_type": "markdown",
      "source": [
        "Compute the Eigen values of a matrix"
      ],
      "metadata": {
        "id": "cG5z6FZjfPXl"
      }
    },
    {
      "cell_type": "code",
      "source": [
        "a=np.array([[1,2],[3,4]])\n",
        "eigvalues,eigvectors=np.linalg.eig(a)\n",
        "print(\"eigen value:\\n\",eigvalues,\"\\neigen vector:\\n\",eigvectors)"
      ],
      "metadata": {
        "colab": {
          "base_uri": "https://localhost:8080/"
        },
        "id": "T3ExnPsOfNk7",
        "outputId": "ef5147a7-9c10-4197-9069-79fb837a614f"
      },
      "execution_count": null,
      "outputs": [
        {
          "output_type": "stream",
          "name": "stdout",
          "text": [
            "eigen value:\n",
            " [-0.37228132  5.37228132] \n",
            "eigen vector:\n",
            " [[-0.82456484 -0.41597356]\n",
            " [ 0.56576746 -0.90937671]]\n"
          ]
        }
      ]
    },
    {
      "cell_type": "markdown",
      "source": [
        "**linear matric** eqn Solve a linear matrix equation such as 3 * x0 + x1 = 9, x0 + 2 * x1 = 8\n",
        "\n"
      ],
      "metadata": {
        "id": "PNZC0nX_fyCy"
      }
    },
    {
      "cell_type": "code",
      "source": [
        "a=np.array([[3,1],[1,2]])\n",
        "b=np.array([[9],[8]])\n",
        "a_inv=np.linalg.inv(a)\n",
        "e=np.matmul(a_inv,b)\n",
        "print(\"linear equation:\\n\",e)\n",
        "print(\"Identity matrix:\\n\",np.matmul(a_inv,a))"
      ],
      "metadata": {
        "colab": {
          "base_uri": "https://localhost:8080/"
        },
        "id": "sAhe_3byf2FS",
        "outputId": "f3fa9314-fce1-4e29-f83e-66cc5b6444e1"
      },
      "execution_count": null,
      "outputs": [
        {
          "output_type": "stream",
          "name": "stdout",
          "text": [
            "linear equation:\n",
            " [[2.]\n",
            " [3.]]\n",
            "Identity matrix:\n",
            " [[1. 0.]\n",
            " [0. 1.]]\n"
          ]
        }
      ]
    },
    {
      "cell_type": "markdown",
      "source": [
        "Compute the multiplicative inverse,rank,Determinant of a matrix"
      ],
      "metadata": {
        "id": "KVebvXR9g9fD"
      }
    },
    {
      "cell_type": "code",
      "source": [
        "#@title\n",
        "a=np.array([[3,1],[1,2]])\n",
        "a_inv=np.linalg.inv(a)\n",
        "print(\"'a' inverse:\\n\",a_inv)\n",
        "#matric rank\n",
        "a=np.array([[3,1],[1,2]])\n",
        "b=np.linalg.matrix_rank(a)\n",
        "print(\"rank:\\n\",b)\n",
        "#determinant of array\n",
        "a=np.array([[3,1],[1,2]])\n",
        "c=np.linalg.det(a)\n",
        "print(\"Determinant:\\n\",c)"
      ],
      "metadata": {
        "colab": {
          "base_uri": "https://localhost:8080/"
        },
        "id": "98NUo3H1g-DT",
        "outputId": "d593244f-de76-4f58-904a-42e5506a89ce"
      },
      "execution_count": null,
      "outputs": [
        {
          "output_type": "stream",
          "name": "stdout",
          "text": [
            "'a' inverse:\n",
            " [[ 0.4 -0.2]\n",
            " [-0.2  0.6]]\n",
            "rank:\n",
            " 2\n",
            "Determinant:\n",
            " 5.000000000000001\n"
          ]
        }
      ]
    },
    {
      "cell_type": "markdown",
      "source": [],
      "metadata": {
        "id": "eBwknCLFg-PL"
      }
    }
  ]
}